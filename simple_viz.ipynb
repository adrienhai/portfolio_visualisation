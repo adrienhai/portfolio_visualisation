{
 "cells": [
  {
   "cell_type": "code",
   "execution_count": null,
   "metadata": {},
   "outputs": [],
   "source": [
    "import pandas as pd\n",
    "import numpy as np\n",
    "from yaml import safe_load\n",
    "import datetime\n",
    "\n",
    "import yfinance as yf\n",
    "\n",
    "import seaborn as sns\n",
    "import matplotlib.pyplot as plt"
   ]
  },
  {
   "cell_type": "code",
   "execution_count": null,
   "metadata": {},
   "outputs": [],
   "source": [
    "with open(\"portfolio.yaml\", \"rb\") as f:\n",
    "    portfolio = safe_load(f)"
   ]
  },
  {
   "cell_type": "code",
   "execution_count": null,
   "metadata": {},
   "outputs": [],
   "source": [
    "datetime.datetime.today()"
   ]
  },
  {
   "cell_type": "code",
   "execution_count": null,
   "metadata": {},
   "outputs": [],
   "source": [
    "# Transform dictionary into a list of records\n",
    "records = []\n",
    "for ticker, transactions in portfolio.items():\n",
    "    for date, details in transactions.items():\n",
    "        qte = next((item['QTE'] for item in details if 'QTE' in item), None)\n",
    "        buy_price = next((pd.to_numeric(item['PRICE'], errors=\"coerce\") for item in details if 'PRICE' in item), None)\n",
    "        buy_price_yahoo = yf.download(ticker, start=date, end=date + datetime.timedelta(1), group_by=\"ticker\")[ticker][\"Close\"]\n",
    "        today_price = yf.download(\n",
    "            ticker, start=datetime.datetime.today(), end=datetime.datetime.today() + datetime.timedelta(1), \n",
    "            group_by=\"ticker\"\n",
    "        )[ticker][\"Close\"]\n",
    "\n",
    "        if not buy_price_yahoo.empty:\n",
    "            records.append({\n",
    "                'date': date, 'ticker': ticker, 'quantity': qte, 'buy_price': buy_price, 'buy_price_yahoo': buy_price_yahoo.values[0],\n",
    "                'today_price': today_price.values[0]\n",
    "            })\n",
    "        else:\n",
    "            records.append({\n",
    "                'date': date, 'ticker': ticker, 'quantity': qte, 'buy_price': buy_price, 'buy_price_yahoo': np.nan,\n",
    "                'today_price': today_price.values[0]\n",
    "            })\n",
    "\n",
    "\n",
    "# Convert to DataFrame\n",
    "df = pd.DataFrame(records)\n",
    "\n",
    "# Sort by Date\n",
    "df.sort_values(by=[\"ticker\", \"date\"], inplace=True)\n",
    "\n",
    "# Reset index\n",
    "df.reset_index(drop=True, inplace=True)\n",
    "df.loc[df.buy_price.isna(), \"buy_price\"] = df.loc[df.buy_price.isna(), \"buy_price_yahoo\"]\n",
    "\n",
    "df.drop(columns=[\"buy_price_yahoo\"], inplace=True)\n"
   ]
  },
  {
   "cell_type": "code",
   "execution_count": null,
   "metadata": {},
   "outputs": [],
   "source": [
    "hist_data = yf.download(\n",
    "    list(portfolio.keys()), start=\"2021-01-01\", \n",
    "    group_by=\"ticker\"\n",
    ")\n",
    "hist_data = hist_data.stack(level=0, future_stack=True)\n",
    "hist_data.columns = hist_data.columns.values\n",
    "hist_data = hist_data.reset_index()\n",
    "hist_data = hist_data[[\"Date\", \"Ticker\", \"Close\"]]"
   ]
  },
  {
   "cell_type": "code",
   "execution_count": null,
   "metadata": {},
   "outputs": [],
   "source": [
    "df[\"cumulative_quantity\"] = df.groupby(\"ticker\").quantity.cumsum()"
   ]
  },
  {
   "cell_type": "code",
   "execution_count": null,
   "metadata": {},
   "outputs": [],
   "source": [
    "# Set start and end date\n",
    "start_date = pd.Timestamp(\"2020-02-26\")\n",
    "end_date = df[\"date\"].max()\n",
    "\n",
    "# Create a complete date range\n",
    "all_dates = pd.date_range(start=start_date, end=end_date, freq=\"D\")\n",
    "\n",
    "# Create a MultiIndex with all tickers and all dates\n",
    "multi_index = pd.MultiIndex.from_product([df[\"ticker\"].unique(), all_dates], names=[\"ticker\", \"date\"])\n",
    "\n",
    "# Reindex the DataFrame to expand the dates for all tickers\n",
    "full_df = df[[\"ticker\", \"date\", \"buy_price\", \"cumulative_quantity\"]].set_index([\"ticker\", \"date\"]).reindex(multi_index)\n",
    "\n",
    "# Forward-fill the Cumulative_Quantity column\n",
    "full_df[\"cumulative_quantity\"] = full_df.groupby(\"ticker\")[\"cumulative_quantity\"].ffill()\n",
    "full_df[\"cumulative_quantity\"] = full_df[\"cumulative_quantity\"].fillna(0)\n",
    "# full_df[\"buy_price\"] = full_df[\"buy_price\"].ffill()\n",
    "\n",
    "# Reset index for final format\n",
    "full_df = full_df.reset_index()\n",
    "\n",
    "full_df"
   ]
  },
  {
   "cell_type": "code",
   "execution_count": null,
   "metadata": {},
   "outputs": [],
   "source": [
    "df"
   ]
  },
  {
   "cell_type": "code",
   "execution_count": null,
   "metadata": {},
   "outputs": [],
   "source": [
    "sns.lineplot(x=\"date\", y=\"cumulative_quantity\", hue=\"ticker\", data=full_df)"
   ]
  },
  {
   "cell_type": "code",
   "execution_count": null,
   "metadata": {},
   "outputs": [],
   "source": [
    "df[\"spendings\"] = df[\"buy_price\"] * df[\"quantity\"]"
   ]
  },
  {
   "cell_type": "code",
   "execution_count": null,
   "metadata": {},
   "outputs": [],
   "source": [
    "(\n",
    "    df.groupby(\"ticker\").quantity.sum()\n",
    "    * df.groupby(\"ticker\").today_price.first()\n",
    ") - df.groupby(\"ticker\").balance.sum()"
   ]
  },
  {
   "cell_type": "code",
   "execution_count": null,
   "metadata": {},
   "outputs": [],
   "source": []
  },
  {
   "cell_type": "code",
   "execution_count": null,
   "metadata": {},
   "outputs": [],
   "source": [
    "(\n",
    "    df.groupby(\"ticker\").quantity.sum()\n",
    "    * df.groupby(\"ticker\").today_price.first()\n",
    ").sum() - df.groupby(\"ticker\").balance.sum().sum()"
   ]
  },
  {
   "cell_type": "code",
   "execution_count": null,
   "metadata": {},
   "outputs": [],
   "source": [
    "(\n",
    "    df.groupby(\"ticker\").quantity.sum()\n",
    "    * df.groupby(\"ticker\").buy_price.first()\n",
    ").sum()"
   ]
  },
  {
   "cell_type": "code",
   "execution_count": null,
   "metadata": {},
   "outputs": [],
   "source": [
    "df.groupby(\"ticker\").balance.first()"
   ]
  },
  {
   "cell_type": "code",
   "execution_count": null,
   "metadata": {},
   "outputs": [],
   "source": []
  }
 ],
 "metadata": {
  "kernelspec": {
   "display_name": "deeplearning",
   "language": "python",
   "name": "python3"
  },
  "language_info": {
   "codemirror_mode": {
    "name": "ipython",
    "version": 3
   },
   "file_extension": ".py",
   "mimetype": "text/x-python",
   "name": "python",
   "nbconvert_exporter": "python",
   "pygments_lexer": "ipython3",
   "version": "3.11.11"
  },
  "orig_nbformat": 4,
  "vscode": {
   "interpreter": {
    "hash": "fae971980931126135c51c05017652044b2cf3f1421ea73bb426d814433cc987"
   }
  }
 },
 "nbformat": 4,
 "nbformat_minor": 2
}
